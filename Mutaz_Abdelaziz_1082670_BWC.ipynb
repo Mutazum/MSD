{
 "cells": [
  {
   "cell_type": "code",
   "execution_count": 18,
   "metadata": {},
   "outputs": [
    {
     "name": "stderr",
     "output_type": "stream",
     "text": [
      "WARNING:bokeh.core.validation.check:W-1000 (MISSING_RENDERERS): Plot has no renderers: Figure(id='3030', ...)\n"
     ]
    }
   ],
   "source": [
    "from bokeh.io import output_file, show\n",
    "from bokeh.layouts import widgetbox, row,column\n",
    "from bokeh.models.widgets import Button, RadioButtonGroup, TextInput, Dropdown, Paragraph\n",
    "from bokeh.plotting import figure\n",
    "from bokeh.models.callbacks import CustomJS\n",
    "output_file(\"BWC_GUI.html\")\n",
    "\n",
    "#Figure\n",
    "s1 = figure(plot_width=600, plot_height=300, title=None)\n",
    "\n",
    "# Title\n",
    "title1  = Paragraph(text=\"\"\"BWC\"\"\")\n",
    "\n",
    "# create some widgets\n",
    "menu = [(\"Implicit\", \"item_1\"), (\"Explicit\", \"item_2\")]\n",
    "dropdown = Dropdown(label=\"Scheme choice:\", button_type=\"warning\", menu=menu)\n",
    "button_group = RadioButtonGroup(labels=[\"Implicit\", \"Explicit\"], active=0)\n",
    "\n",
    "# Inputs\n",
    "L = TextInput(value=\"10000\", title=\"L (m)\")\n",
    "b = TextInput(value=\"100\", title=\"b (m)\")\n",
    "So = TextInput(value=\"0.0006\", title=\"I (-)\")\n",
    "C = TextInput(value=\"45\", title=\"C (m1/2/S)\")\n",
    "Q = TextInput(value=\"500\", title=\"Q (m3/S)\")\n",
    "hint = TextInput(value=\"5.0\", title=\"int_h (m)\")\n",
    "dx = TextInput(value=\"100\", title=\"dx (m)\")\n",
    "No_itter = TextInput(value=\"15\", title=\"No. Iteration\")\n",
    "\n",
    "# Buttons\n",
    "help = Button(label=\"Help\")\n",
    "Load_from_file = Button(label=\"Load Data From file\")\n",
    "Show_equation = Button(label=\"Show equation\")\n",
    "Save_to_file = Button(label=\"Save Data to file\")\n",
    "Draw_BWC = Button(label=\"Draw BWC\")\n",
    "Save_Graph = Button(label=\"Save Graph\")\n",
    "\n",
    "# create a layout for everything\n",
    "layout = widgetbox(row(column(title1)),row(column(help)),row(Load_from_file),column(row(column(L,b,So,C,Q,hint,dx,),s1))\n",
    "                    ,column(row(dropdown,Show_equation))\n",
    "                    ,row(column(No_itter,Draw_BWC),column(Save_to_file)))\n",
    "\n",
    "show(layout) "
   ]
  }
 ],
 "metadata": {
  "interpreter": {
   "hash": "b3ba2566441a7c06988d0923437866b63cedc61552a5af99d1f4fb67d367b25f"
  },
  "kernelspec": {
   "display_name": "Python 3.9.7 ('base')",
   "language": "python",
   "name": "python3"
  },
  "language_info": {
   "codemirror_mode": {
    "name": "ipython",
    "version": 3
   },
   "file_extension": ".py",
   "mimetype": "text/x-python",
   "name": "python",
   "nbconvert_exporter": "python",
   "pygments_lexer": "ipython3",
   "version": "3.9.7"
  },
  "orig_nbformat": 4
 },
 "nbformat": 4,
 "nbformat_minor": 2
}
